{
 "cells": [
  {
   "cell_type": "markdown",
   "metadata": {},
   "source": [
    "Importing Libraries"
   ]
  },
  {
   "cell_type": "code",
   "execution_count": null,
   "metadata": {},
   "outputs": [],
   "source": [
    "import pandas as pd"
   ]
  },
  {
   "cell_type": "markdown",
   "metadata": {},
   "source": [
    "When I observed data it is in Tab delimiter format ('\\t') so, while loading the data, it also converted into comma delimited format for easier analysis. (using sep = \"\\t\" function)"
   ]
  },
  {
   "cell_type": "code",
   "execution_count": null,
   "metadata": {},
   "outputs": [],
   "source": [
    "raw_data = pd.read_csv(r\"C:\\Users\\shant\\OneDrive\\Desktop\\Intern\\Customer Personality Analysis Data\\marketing_campaign.csv\", sep = \"\\t\")"
   ]
  },
  {
   "cell_type": "code",
   "execution_count": null,
   "metadata": {},
   "outputs": [
    {
     "data": {
      "text/plain": [
       "     ID  Year_Birth   Education  ... Z_CostContact  Z_Revenue  Response\n",
       "0  5524        1957  Graduation  ...             3         11         1\n",
       "1  2174        1954  Graduation  ...             3         11         0\n",
       "2  4141        1965  Graduation  ...             3         11         0\n",
       "3  6182        1984  Graduation  ...             3         11         0\n",
       "4  5324        1981         PhD  ...             3         11         0\n",
       "\n",
       "[5 rows x 29 columns]\n"
      ]
     },
     "metadata": {},
     "output_type": "display_data"
    }
   ],
   "source": [
    "raw_data.head()"
   ]
  },
  {
   "cell_type": "markdown",
   "metadata": {},
   "source": [
    "Checking for null values"
   ]
  },
  {
   "cell_type": "code",
   "execution_count": null,
   "metadata": {},
   "outputs": [
    {
     "data": {
      "text/plain": [
       "         ID  Year_Birth  Education  ...  Z_CostContact  Z_Revenue  Response\n",
       "0     False       False      False  ...          False      False     False\n",
       "1     False       False      False  ...          False      False     False\n",
       "2     False       False      False  ...          False      False     False\n",
       "3     False       False      False  ...          False      False     False\n",
       "4     False       False      False  ...          False      False     False\n",
       "...     ...         ...        ...  ...            ...        ...       ...\n",
       "2235  False       False      False  ...          False      False     False\n",
       "2236  False       False      False  ...          False      False     False\n",
       "2237  False       False      False  ...          False      False     False\n",
       "2238  False       False      False  ...          False      False     False\n",
       "2239  False       False      False  ...          False      False     False\n",
       "\n",
       "[2240 rows x 29 columns]\n"
      ]
     },
     "metadata": {},
     "output_type": "display_data"
    }
   ],
   "source": [
    "raw_data.isnull()"
   ]
  },
  {
   "cell_type": "code",
   "execution_count": null,
   "metadata": {},
   "outputs": [
    {
     "data": {
      "text/plain": [
       "<class 'pandas.core.frame.DataFrame'>\n"
      ]
     },
     "metadata": {},
     "output_type": "display_data"
    }
   ],
   "source": [
    "print(type(raw_data))"
   ]
  },
  {
   "cell_type": "code",
   "execution_count": null,
   "metadata": {},
   "outputs": [
    {
     "data": {
      "text/plain": [
       "Income    24\n",
       "dtype: int64\n"
      ]
     },
     "metadata": {},
     "output_type": "display_data"
    }
   ],
   "source": [
    "null_counts = raw_data.isnull().sum()\n",
    "null_columns = null_counts[null_counts > 0]\n",
    "\n",
    "print(null_columns)\n"
   ]
  },
  {
   "cell_type": "markdown",
   "metadata": {},
   "source": [
    "Filling or handling NUll values"
   ]
  },
  {
   "cell_type": "code",
   "execution_count": null,
   "metadata": {},
   "outputs": [],
   "source": [
    "raw_data['Income'] = raw_data['Income'].fillna(raw_data['Income'].median())"
   ]
  },
  {
   "cell_type": "code",
   "execution_count": null,
   "metadata": {},
   "outputs": [
    {
     "data": {
      "text/plain": [
       "Index(['ID', 'Year_Birth', 'Education', 'Marital_Status', 'Income', 'Kidhome',\n",
       "       'Teenhome', 'Dt_Customer', 'Recency', 'MntWines', 'MntFruits',\n",
       "       'MntMeatProducts', 'MntFishProducts', 'MntSweetProducts',\n",
       "       'MntGoldProds', 'NumDealsPurchases', 'NumWebPurchases',\n",
       "       'NumCatalogPurchases', 'NumStorePurchases', 'NumWebVisitsMonth',\n",
       "       'AcceptedCmp3', 'AcceptedCmp4', 'AcceptedCmp5', 'AcceptedCmp1',\n",
       "       'AcceptedCmp2', 'Complain', 'Z_CostContact', 'Z_Revenue', 'Response'],\n",
       "      dtype='object')\n"
      ]
     },
     "metadata": {},
     "output_type": "display_data"
    }
   ],
   "source": [
    "raw_data.columns"
   ]
  },
  {
   "cell_type": "code",
   "execution_count": null,
   "metadata": {},
   "outputs": [
    {
     "data": {
      "text/plain": [
       "(2240, 29)\n"
      ]
     },
     "metadata": {},
     "output_type": "display_data"
    }
   ],
   "source": [
    "print(raw_data.shape)"
   ]
  },
  {
   "cell_type": "markdown",
   "metadata": {},
   "source": [
    "Checking and droping duplicate rows"
   ]
  },
  {
   "cell_type": "code",
   "execution_count": null,
   "metadata": {},
   "outputs": [
    {
     "data": {
      "text/plain": [
       "Duplicate rows before: 0\n"
      ]
     },
     "metadata": {},
     "output_type": "display_data"
    }
   ],
   "source": [
    "print(\"Duplicate rows before:\", raw_data.duplicated().sum())\n",
    "raw_data = raw_data.drop_duplicates()"
   ]
  },
  {
   "cell_type": "markdown",
   "metadata": {},
   "source": [
    "tat"
   ]
  },
  {
   "cell_type": "code",
   "execution_count": null,
   "metadata": {},
   "outputs": [],
   "source": [
    "raw_data['Education'] = raw_data['Education'].str.strip().str.lower()\n",
    "raw_data['Marital_Status'] = raw_data['Marital_Status'].str.strip().str.lower()"
   ]
  },
  {
   "cell_type": "code",
   "execution_count": null,
   "metadata": {},
   "outputs": [
    {
     "data": {
      "text/plain": [
       "     ID  Year_Birth   Education  ... Z_CostContact  Z_Revenue  Response\n",
       "0  5524        1957  graduation  ...             3         11         1\n",
       "1  2174        1954  graduation  ...             3         11         0\n",
       "2  4141        1965  graduation  ...             3         11         0\n",
       "3  6182        1984  graduation  ...             3         11         0\n",
       "4  5324        1981         phd  ...             3         11         0\n",
       "\n",
       "[5 rows x 29 columns]\n"
      ]
     },
     "metadata": {},
     "output_type": "display_data"
    }
   ],
   "source": [
    "raw_data.head()"
   ]
  },
  {
   "cell_type": "markdown",
   "metadata": {},
   "source": [
    "Converting to Standard date format"
   ]
  },
  {
   "cell_type": "code",
   "execution_count": null,
   "metadata": {},
   "outputs": [],
   "source": [
    "raw_data['Dt_Customer'] = pd.to_datetime(raw_data['Dt_Customer'], dayfirst=True)"
   ]
  },
  {
   "cell_type": "code",
   "execution_count": null,
   "metadata": {},
   "outputs": [
    {
     "data": {
      "text/plain": [
       "     ID  Year_Birth   Education  ... Z_CostContact  Z_Revenue  Response\n",
       "0  5524        1957  graduation  ...             3         11         1\n",
       "1  2174        1954  graduation  ...             3         11         0\n",
       "2  4141        1965  graduation  ...             3         11         0\n",
       "3  6182        1984  graduation  ...             3         11         0\n",
       "4  5324        1981         phd  ...             3         11         0\n",
       "\n",
       "[5 rows x 29 columns]\n"
      ]
     },
     "metadata": {},
     "output_type": "display_data"
    }
   ],
   "source": [
    "raw_data.head()"
   ]
  },
  {
   "cell_type": "markdown",
   "metadata": {},
   "source": [
    "Converting names of columns in lower case for easier analysis"
   ]
  },
  {
   "cell_type": "code",
   "execution_count": null,
   "metadata": {},
   "outputs": [],
   "source": [
    "raw_data.columns = raw_data.columns.str.strip().str.lower().str.replace(\" \", \"_\")"
   ]
  },
  {
   "cell_type": "markdown",
   "metadata": {},
   "source": [
    "Checking and fixing datatypes"
   ]
  },
  {
   "cell_type": "code",
   "execution_count": null,
   "metadata": {},
   "outputs": [],
   "source": [
    "raw_data['income'] = pd.to_numeric(raw_data['income'], errors='coerce')\n",
    "raw_data['year_birth'] = pd.to_numeric(raw_data['year_birth'], errors='coerce')\n",
    "raw_data['age'] = 2025 - raw_data['year_birth']\n",
    "raw_data['age'] = raw_data['age'].astype(int)"
   ]
  },
  {
   "cell_type": "markdown",
   "metadata": {},
   "source": [
    "visual checking for datatypes after fixing"
   ]
  },
  {
   "cell_type": "code",
   "execution_count": null,
   "metadata": {},
   "outputs": [
    {
     "data": {
      "text/plain": [
       "\n",
       "Cleaned Data Types:\n",
       " id                              int64\n",
       "year_birth                      int64\n",
       "education                      object\n",
       "marital_status                 object\n",
       "income                        float64\n",
       "kidhome                         int64\n",
       "teenhome                        int64\n",
       "dt_customer            datetime64[ns]\n",
       "recency                         int64\n",
       "mntwines                        int64\n",
       "mntfruits                       int64\n",
       "mntmeatproducts                 int64\n",
       "mntfishproducts                 int64\n",
       "mntsweetproducts                int64\n",
       "mntgoldprods                    int64\n",
       "numdealspurchases               int64\n",
       "numwebpurchases                 int64\n",
       "numcatalogpurchases             int64\n",
       "numstorepurchases               int64\n",
       "numwebvisitsmonth               int64\n",
       "acceptedcmp3                    int64\n",
       "acceptedcmp4                    int64\n",
       "acceptedcmp5                    int64\n",
       "acceptedcmp1                    int64\n",
       "acceptedcmp2                    int64\n",
       "complain                        int64\n",
       "z_costcontact                   int64\n",
       "z_revenue                       int64\n",
       "response                        int64\n",
       "age                             int64\n",
       "dtype: object\n"
      ]
     },
     "metadata": {},
     "output_type": "display_data"
    }
   ],
   "source": [
    "print(\"\\nCleaned Data Types:\\n\", raw_data.dtypes)"
   ]
  },
  {
   "cell_type": "code",
   "execution_count": null,
   "metadata": {},
   "outputs": [
    {
     "data": {
      "text/plain": [
       "\n",
       "Cleaned Data (first 5 rows):\n",
       "       id  year_birth   education  ... z_revenue  response  age\n",
       "0   5524        1957  graduation  ...        11         1   68\n",
       "1   2174        1954  graduation  ...        11         0   71\n",
       "2   4141        1965  graduation  ...        11         0   60\n",
       "3   6182        1984  graduation  ...        11         0   41\n",
       "4   5324        1981         phd  ...        11         0   44\n",
       "5   7446        1967      master  ...        11         0   58\n",
       "6    965        1971  graduation  ...        11         0   54\n",
       "7   6177        1985         phd  ...        11         0   40\n",
       "8   4855        1974         phd  ...        11         1   51\n",
       "9   5899        1950         phd  ...        11         0   75\n",
       "10  1994        1983  graduation  ...        11         0   42\n",
       "11   387        1976       basic  ...        11         0   49\n",
       "12  2125        1959  graduation  ...        11         0   66\n",
       "13  8180        1952      master  ...        11         0   73\n",
       "14  2569        1987  graduation  ...        11         0   38\n",
       "15  2114        1946         phd  ...        11         1   79\n",
       "16  9736        1980  graduation  ...        11         0   45\n",
       "17  4939        1946  graduation  ...        11         0   79\n",
       "18  6565        1949      master  ...        11         0   76\n",
       "19  2278        1985    2n cycle  ...        11         0   40\n",
       "\n",
       "[20 rows x 30 columns]\n"
      ]
     },
     "metadata": {},
     "output_type": "display_data"
    }
   ],
   "source": [
    "print(\"\\nCleaned Data (first 5 rows):\\n\", raw_data.head(20))"
   ]
  },
  {
   "cell_type": "markdown",
   "metadata": {},
   "source": [
    "saving cleaned data to CSV Cleaned Data.csv"
   ]
  },
  {
   "cell_type": "code",
   "execution_count": null,
   "metadata": {},
   "outputs": [
    {
     "data": {
      "text/plain": [
       "Traceback (most recent call last):\n",
       "  File \"c:\\Users\\shant\\.vscode\\extensions\\ms-python.python-2025.2.0-win32-x64\\python_files\\python_server.py\", line 133, in exec_user_input\n",
       "    retval = callable_(user_input, user_globals)\n",
       "             ^^^^^^^^^^^^^^^^^^^^^^^^^^^^^^^^^^^\n",
       "  File \"<string>\", line 2\n",
       "    cleaned_data.to_csv(\"C:\\Users\\shant\\OneDrive\\Desktop\\Intern\\Customer Personality Analysis Data\\Cleaned DAta.csv\", index = False)\n",
       "                        ^^^^^^^^^^^^^^^^^^^^^^^^^^^^^^^^^^^^^^^^^^^^^^^^^^^^^^^^^^^^^^^^^^^^^^^^^^^^^^^^^^^^^^^^^^^^\n",
       "SyntaxError: (unicode error) 'unicodeescape' codec can't decode bytes in position 2-3: truncated \\UXXXXXXXX escape\n",
       "\n"
      ]
     },
     "metadata": {},
     "output_type": "display_data"
    }
   ],
   "source": [
    "cleaned_data = raw_data\n",
    "cleaned_data.to_csv(r\"C:\\Users\\shant\\OneDrive\\Desktop\\Intern\\Customer Personality Analysis Data\\Cleaned Data.csv\", index = False)\n"
   ]
  },
  {
   "cell_type": "code",
   "execution_count": null,
   "metadata": {},
   "outputs": [
    {
     "data": {
      "text/plain": [
       "     id  year_birth   education  ... z_revenue  response  age\n",
       "0  5524        1957  graduation  ...        11         1   68\n",
       "1  2174        1954  graduation  ...        11         0   71\n",
       "2  4141        1965  graduation  ...        11         0   60\n",
       "3  6182        1984  graduation  ...        11         0   41\n",
       "4  5324        1981         phd  ...        11         0   44\n",
       "5  7446        1967      master  ...        11         0   58\n",
       "6   965        1971  graduation  ...        11         0   54\n",
       "7  6177        1985         phd  ...        11         0   40\n",
       "8  4855        1974         phd  ...        11         1   51\n",
       "9  5899        1950         phd  ...        11         0   75\n",
       "\n",
       "[10 rows x 30 columns]\n"
      ]
     },
     "metadata": {},
     "output_type": "display_data"
    }
   ],
   "source": [
    "\n",
    "cleaned_data.head(10)"
   ]
  }
 ],
 "metadata": {
  "language_info": {
   "name": "python"
  }
 },
 "nbformat": 4,
 "nbformat_minor": 2
}
